{
 "cells": [
  {
   "cell_type": "code",
   "execution_count": 3,
   "metadata": {},
   "outputs": [],
   "source": [
    "import tensorflow as tf\n",
    "import matplotlib.pyplot as plt\n",
    "import numpy as np"
   ]
  },
  {
   "cell_type": "code",
   "execution_count": 14,
   "metadata": {},
   "outputs": [],
   "source": [
    "features={'image':tf.FixedLenFeature([], tf.string),\\\n",
    "    'disease_label': tf.FixedLenFeature([], tf.int64)}\n",
    "\n",
    "#train_parser = Parser( features, True, image_height, image_width )\n",
    "#valid_parser = Parser( features, False, image_height, image_width )\n",
    "\n",
    "def parse_example(example_proto):\n",
    "\n",
    "    parsed_features = tf.parse_single_example( example_proto, features )\n",
    "\n",
    "    image_file = parsed_features['image']\n",
    "\n",
    "    #image_string = tf.read_file(image_file)\n",
    "    #image = tf.image.decode_jpeg(image_string,channels=3)\n",
    "\n",
    "    #image = tf.image.convert_image_dtype( image, tf.float32 )\n",
    "\n",
    "    #image = tf.image.rgb_to_grayscale( image )\n",
    "\n",
    "    image = tf.cast(parsed_features['image'], tf.string)\n",
    "    label = tf.cast(parsed_features['disease_label'], tf.int64)\n",
    "\n",
    "    return image, label"
   ]
  },
  {
   "cell_type": "code",
   "execution_count": 31,
   "metadata": {},
   "outputs": [],
   "source": [
    "filenames = [\"validation.tfrecords\"]\n",
    "training_dataset = tf.data.TFRecordDataset(filenames)\n",
    "training_dataset = training_dataset.map(parse_example)\n",
    "training_dataset = training_dataset.batch(1)"
   ]
  },
  {
   "cell_type": "code",
   "execution_count": 35,
   "metadata": {},
   "outputs": [],
   "source": [
    "# A reinitializable iterator is defined by its structure. We could use the\n",
    "# `output_types` and `output_shapes` properties of either `training_dataset`\n",
    "# or `validation_dataset` here, because they are compatible.\n",
    "iterator = tf.data.Iterator.from_structure(training_dataset.output_types,\n",
    "                                           training_dataset.output_shapes)\n",
    "next_element = iterator.get_next()\n",
    "training_init_op = iterator.make_initializer(training_dataset)"
   ]
  },
  {
   "cell_type": "code",
   "execution_count": 36,
   "metadata": {},
   "outputs": [
    {
     "name": "stdout",
     "output_type": "stream",
     "text": [
      "[b'/opt/kaggle/skin/all_images/ISIC_0026769.jpg']\n",
      "2\n"
     ]
    }
   ],
   "source": [
    "sess = tf.Session()\n",
    "sess.run(training_init_op)\n",
    "info = sess.run(next_element)\n",
    "print(info[0])\n",
    "print(info[1][0])\n",
    "#im1 = im[0,0:128*128*3]\n",
    "#im1 = np.reshape(im1, (128,128,3))\n",
    "#lt.imshow(im1)"
   ]
  },
  {
   "cell_type": "code",
   "execution_count": 27,
   "metadata": {},
   "outputs": [
    {
     "name": "stdout",
     "output_type": "stream",
     "text": [
      "49152\n"
     ]
    }
   ],
   "source": [
    "print(128*128*3)"
   ]
  },
  {
   "cell_type": "code",
   "execution_count": null,
   "metadata": {},
   "outputs": [],
   "source": []
  },
  {
   "cell_type": "code",
   "execution_count": null,
   "metadata": {},
   "outputs": [],
   "source": []
  }
 ],
 "metadata": {
  "kernelspec": {
   "display_name": "Python 3",
   "language": "python",
   "name": "python3"
  },
  "language_info": {
   "codemirror_mode": {
    "name": "ipython",
    "version": 3
   },
   "file_extension": ".py",
   "mimetype": "text/x-python",
   "name": "python",
   "nbconvert_exporter": "python",
   "pygments_lexer": "ipython3",
   "version": "3.6.6"
  }
 },
 "nbformat": 4,
 "nbformat_minor": 2
}
