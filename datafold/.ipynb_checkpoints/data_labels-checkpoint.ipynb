{
 "cells": [
  {
   "cell_type": "code",
   "execution_count": 2,
   "metadata": {},
   "outputs": [],
   "source": [
    "from os.path import join\n",
    "from pandas import read_csv\n",
    "\n",
    "from constants import image_folder, label_dict, dx_type, localization, \\\n",
    "    image_label_file"
   ]
  },
  {
   "cell_type": "code",
   "execution_count": 16,
   "metadata": {},
   "outputs": [],
   "source": [
    "\n",
    "def _convert_lesion_id(string_id):\n",
    "\n",
    "    return string_id\n",
    "\n",
    "\n",
    "def _convert_image_name(string_image):\n",
    "\n",
    "    image_file = join(image_folder, '{0}.jpg'.format(string_image))\n",
    "    return image_file\n",
    "\n",
    "\n",
    "def _convert_label(string_label):\n",
    "\n",
    "    if string_label in label_dict:\n",
    "        return label_dict[string_label]\n",
    "    else:\n",
    "        return -1\n",
    "\n",
    "\n",
    "def _convert_dx_type(string_dx_type):\n",
    "\n",
    "    if string_dx_type in dx_type:\n",
    "        return dx_type[string_dx_type]\n",
    "    else:\n",
    "        return -1\n",
    "\n",
    "\n",
    "def _convert_age(string_age):\n",
    "\n",
    "    try:\n",
    "        return float(string_age)\n",
    "    except:\n",
    "        return -1.0\n",
    " \n",
    "\n",
    "def _convert_gender(string_gender):\n",
    "\n",
    "    if string_gender == 'male':\n",
    "        return 0\n",
    "    elif string_gender == 'female':\n",
    "        return 1\n",
    "    else:\n",
    "        return -1\n",
    "\n",
    "\n",
    "def _convert_localization(string_localization):\n",
    "\n",
    "    if string_localization in localization:\n",
    "        return localization[string_localization]\n",
    "    else:\n",
    "        return -1\n"
   ]
  },
  {
   "cell_type": "code",
   "execution_count": 37,
   "metadata": {},
   "outputs": [],
   "source": [
    "def find_unique_lesions(csv_data):\n",
    "    \n",
    "    return list(set(csv_data.lesion_id))\n",
    "\n",
    "def list_lesion_info(lesion_id, csv_data):\n",
    "    query_cond = 'lesion_id == \\'{0}\\''.format(lesion_id)\n",
    "    lesion_info = csv_data.query(query_cond)\n",
    "    return lesion_info"
   ]
  },
  {
   "cell_type": "code",
   "execution_count": 17,
   "metadata": {},
   "outputs": [],
   "source": [
    "def _read_csv(filename):\n",
    "\n",
    "    with open(filename, 'rb') as f:\n",
    "        csv_data = read_csv(f, header=0,\n",
    "                            converters = {0: _convert_lesion_id,\n",
    "                                          1: _convert_image_name,\n",
    "                                          2: _convert_label,\n",
    "                                          3: _convert_dx_type,\n",
    "                                          4: _convert_age,\n",
    "                                          5: _convert_gender,\n",
    "                                          6: _convert_localization})\n",
    "    return csv_data"
   ]
  },
  {
   "cell_type": "code",
   "execution_count": 38,
   "metadata": {},
   "outputs": [],
   "source": [
    "data = _read_csv(image_label_file)"
   ]
  },
  {
   "cell_type": "code",
   "execution_count": 39,
   "metadata": {},
   "outputs": [
    {
     "name": "stdout",
     "output_type": "stream",
     "text": [
      "        lesion_id                                      image_id  dx  dx_type  \\\n",
      "5110  HAM_0003503  /opt/kaggle/skin/all_images/ISIC_0027555.jpg   4        1   \n",
      "\n",
      "       age  sex  localization  \n",
      "5110  60.0    1             9  \n"
     ]
    }
   ],
   "source": [
    "unique_lesions = find_unique_lesions(data)\n",
    "pri\n",
    "print(list_lesion_info('HAM_0003503', data))\n"
   ]
  },
  {
   "cell_type": "code",
   "execution_count": null,
   "metadata": {},
   "outputs": [],
   "source": []
  }
 ],
 "metadata": {
  "kernelspec": {
   "display_name": "Python 3",
   "language": "python",
   "name": "python3"
  },
  "language_info": {
   "codemirror_mode": {
    "name": "ipython",
    "version": 3
   },
   "file_extension": ".py",
   "mimetype": "text/x-python",
   "name": "python",
   "nbconvert_exporter": "python",
   "pygments_lexer": "ipython3",
   "version": "3.6.6"
  }
 },
 "nbformat": 4,
 "nbformat_minor": 2
}
